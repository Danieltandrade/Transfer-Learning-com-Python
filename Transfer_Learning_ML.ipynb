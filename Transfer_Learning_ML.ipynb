{
  "nbformat": 4,
  "nbformat_minor": 0,
  "metadata": {
    "colab": {
      "provenance": [],
      "gpuType": "T4",
      "mount_file_id": "1ltpuFSbUkvjesMrKhWmLQcBoBz41anqN",
      "authorship_tag": "ABX9TyN3yoe1gHjnjoBVX1Crp84j",
      "include_colab_link": true
    },
    "kernelspec": {
      "name": "python3",
      "display_name": "Python 3"
    },
    "language_info": {
      "name": "python"
    },
    "accelerator": "GPU"
  },
  "cells": [
    {
      "cell_type": "markdown",
      "metadata": {
        "id": "view-in-github",
        "colab_type": "text"
      },
      "source": [
        "<a href=\"https://colab.research.google.com/github/Danieltandrade/Transfer-Learning-com-Python/blob/main/Transfer_Learning_ML.ipynb\" target=\"_parent\"><img src=\"https://colab.research.google.com/assets/colab-badge.svg\" alt=\"Open In Colab\"/></a>"
      ]
    },
    {
      "cell_type": "markdown",
      "source": [
        "# Projeto de Visão Computacional com Transfer-Learning\n",
        "\n",
        "O objeto deste projeto é utilizar uma rede neural já treinada para realizar uma classificação de imagens em um novo conjunto de dados, com isso, será utilizado o conhecimento aprendido desta rede neural para realizar o novo treinamento."
      ],
      "metadata": {
        "id": "845YkLAIbAPt"
      }
    },
    {
      "cell_type": "markdown",
      "source": [
        "## 1º Passo: Importando as bibliotecas necessárias"
      ],
      "metadata": {
        "id": "PsZoohGnXkPu"
      }
    },
    {
      "cell_type": "code",
      "execution_count": null,
      "metadata": {
        "id": "Puy0GYM316UM"
      },
      "outputs": [],
      "source": [
        "import os\n",
        "import shutil\n",
        "import zipfile\n",
        "import random\n",
        "import numpy as np\n",
        "import tensorflow as tf\n",
        "import matplotlib.pyplot as plt\n",
        "\n",
        "from tqdm import tqdm\n",
        "from tensorflow.keras.applications import InceptionV3\n",
        "from tensorflow.keras.preprocessing.image import ImageDataGenerator\n",
        "from tensorflow.keras.utils import image_dataset_from_directory\n",
        "from tensorflow.keras.models import Model\n",
        "from tensorflow.keras.layers import Input, Dense, GlobalAveragePooling2D, Dropout\n",
        "from tensorflow.keras.optimizers import Adam\n",
        "from tensorflow.keras.callbacks import EarlyStopping\n",
        "from sklearn.metrics import classification_report, confusion_matrix"
      ]
    },
    {
      "cell_type": "markdown",
      "source": [
        "## 2º Passo: Download do novo Dataset\n",
        "Este Dataset será formado por duas classes, chamadas \"cats\" e \"dogs\", contendo pastas com 200 imagens para treinamento e 50 imagens para validação de cada classe. Opcionalmente pode ser habilitado as pastas de testes para as duas classes.\n",
        "\n",
        "- O Download do Dataset pode ser realizado no link a seguir ou conforme escrito no código abaixo: [Download](https://www.microsoft.com/en-us/download/details.aspx?id=54765)\n",
        "- Após o Download será criado um novo Dataset com as imagens sendo escolhidas de forma randomica."
      ],
      "metadata": {
        "id": "v5jT1XjKPhQ5"
      }
    },
    {
      "cell_type": "code",
      "source": [
        "# 1. Download do arquivo zip\n",
        "zip_path = \"/content/kagglecatsanddogs_5340.zip\"\n",
        "print(\"Baixando o arquivo zip...\")\n",
        "!wget --no-check-certificate \"https://download.microsoft.com/download/3/E/1/3E1C3F21-ECDB-4869-8368-6DEBA77B919F/kagglecatsanddogs_5340.zip\" -O {zip_path}\n",
        "print(\"Download concluído!\")\n",
        "\n",
        "# 2. Extrair o arquivo zip\n",
        "extract_path = \"/content/kagglecatsanddogs_5340\"\n",
        "print(\"Extraindo os arquivos...\")\n",
        "with zipfile.ZipFile(zip_path, 'r') as zip_ref:\n",
        "    zip_ref.extractall(extract_path)\n",
        "print(\"Extração concluída!\")\n",
        "\n",
        "# 3. Variável para decidir se a pasta \"test\" será criada\n",
        "create_test = True  # Mude para False se não quiser criar a pasta \"test\"\n",
        "\n",
        "# 4. Criar a estrutura de pastas\n",
        "destination_path = \"/content/dataset\"\n",
        "os.makedirs(f\"{destination_path}/train/cats\", exist_ok=True)\n",
        "os.makedirs(f\"{destination_path}/train/dogs\", exist_ok=True)\n",
        "os.makedirs(f\"{destination_path}/val/cats\", exist_ok=True)\n",
        "os.makedirs(f\"{destination_path}/val/dogs\", exist_ok=True)\n",
        "\n",
        "if create_test:\n",
        "    os.makedirs(f\"{destination_path}/test/cats\", exist_ok=True)\n",
        "    os.makedirs(f\"{destination_path}/test/dogs\", exist_ok=True)\n",
        "\n",
        "# 5. Ajustar a função para copiar imagens para \"test\" (se necessário)\n",
        "def select_and_copy_images(source_folder, train_folder, val_folder, test_folder, train_count, val_count, test_count):\n",
        "    images = os.listdir(source_folder)\n",
        "    images = [img for img in images if img.lower().endswith(('jpg', 'jpeg', 'png'))]\n",
        "    random.seed(7)\n",
        "    selected_images = random.sample(images, train_count + val_count + (test_count if create_test else 0))  # Ajusta com base no test_count\n",
        "    train_images = selected_images[:train_count]\n",
        "    val_images = selected_images[train_count:train_count + val_count]\n",
        "\n",
        "    # Caso create_test seja verdadeiro, separa imagens para o conjunto de teste\n",
        "    test_images = selected_images[train_count + val_count:] if create_test else []\n",
        "\n",
        "    # Copiar para treinamento\n",
        "    for img in tqdm(train_images, desc=f\"Copiando para {train_folder}\"):\n",
        "        shutil.copy(os.path.join(source_folder, img), os.path.join(train_folder, img))\n",
        "\n",
        "    # Copiar para validação\n",
        "    for img in tqdm(val_images, desc=f\"Copiando para {val_folder}\"):\n",
        "        shutil.copy(os.path.join(source_folder, img), os.path.join(val_folder, img))\n",
        "\n",
        "    # Copiar para teste, se habilitado\n",
        "    if create_test:\n",
        "        for img in tqdm(test_images, desc=f\"Copiando para {test_folder}\"):\n",
        "            shutil.copy(os.path.join(source_folder, img), os.path.join(test_folder, img))\n",
        "\n",
        "# 6. Organizar as imagens\n",
        "print(\"Organizando as imagens...\")\n",
        "\n",
        "# Copiar imagens de gatos\n",
        "select_and_copy_images(\n",
        "    source_folder=f\"{extract_path}/PetImages/Cat\",\n",
        "    train_folder=f\"{destination_path}/train/cats\",\n",
        "    val_folder=f\"{destination_path}/val/cats\",\n",
        "    test_folder=f\"{destination_path}/test/cats\",\n",
        "    train_count=200,\n",
        "    val_count=50,\n",
        "    test_count=20  # Defina a quantidade desejada para o conjunto de teste\n",
        ")\n",
        "\n",
        "# 7. Copiar imagens de cachorros\n",
        "select_and_copy_images(\n",
        "    source_folder=f\"{extract_path}/PetImages/Dog\",\n",
        "    train_folder=f\"{destination_path}/train/dogs\",\n",
        "    val_folder=f\"{destination_path}/val/dogs\",\n",
        "    test_folder=f\"{destination_path}/test/dogs\",\n",
        "    train_count=200,\n",
        "    val_count=50,\n",
        "    test_count=20  # Defina a quantidade desejada para o conjunto de teste\n",
        ")\n",
        "\n",
        "# 8. Remover arquivos e pastas não utilizados\n",
        "print(\"Removendo arquivos desnecessários...\")\n",
        "if os.path.exists(zip_path):\n",
        "    os.remove(zip_path)\n",
        "    print(f\"Arquivo {zip_path} removido.\")\n",
        "\n",
        "if os.path.exists(extract_path):\n",
        "    shutil.rmtree(extract_path)\n",
        "    print(f\"Pasta {extract_path} removida.\")\n",
        "\n",
        "# 9. Verificar a estrutura final\n",
        "print(\"\\nEstrutura final de arquivos:\")\n",
        "for root, dirs, files in os.walk(destination_path):\n",
        "    print(f\"{root}: {len(files)} arquivos\")"
      ],
      "metadata": {
        "colab": {
          "base_uri": "https://localhost:8080/"
        },
        "id": "abISxyeCQIDO",
        "outputId": "e097f990-0460-4ff1-8577-39ac43c99a84"
      },
      "execution_count": null,
      "outputs": [
        {
          "output_type": "stream",
          "name": "stdout",
          "text": [
            "Baixando o arquivo zip...\n",
            "--2025-01-02 01:25:47--  https://download.microsoft.com/download/3/E/1/3E1C3F21-ECDB-4869-8368-6DEBA77B919F/kagglecatsanddogs_5340.zip\n",
            "Resolving download.microsoft.com (download.microsoft.com)... 23.213.36.252, 2600:1409:12:39f::317f, 2600:1409:12:385::317f\n",
            "Connecting to download.microsoft.com (download.microsoft.com)|23.213.36.252|:443... connected.\n",
            "HTTP request sent, awaiting response... 200 OK\n",
            "Length: 824887076 (787M) [application/octet-stream]\n",
            "Saving to: ‘/content/kagglecatsanddogs_5340.zip’\n",
            "\n",
            "/content/kagglecats 100%[===================>] 786.67M  87.2MB/s    in 9.0s    \n",
            "\n",
            "2025-01-02 01:25:56 (87.7 MB/s) - ‘/content/kagglecatsanddogs_5340.zip’ saved [824887076/824887076]\n",
            "\n",
            "Download concluído!\n",
            "Extraindo os arquivos...\n",
            "Extração concluída!\n",
            "Organizando as imagens...\n"
          ]
        },
        {
          "output_type": "stream",
          "name": "stderr",
          "text": [
            "Copiando para /content/dataset/train/cats: 100%|██████████| 200/200 [00:00<00:00, 8240.61it/s]\n",
            "Copiando para /content/dataset/val/cats: 100%|██████████| 50/50 [00:00<00:00, 7338.09it/s]\n",
            "Copiando para /content/dataset/test/cats: 100%|██████████| 20/20 [00:00<00:00, 6055.45it/s]\n",
            "Copiando para /content/dataset/train/dogs: 100%|██████████| 200/200 [00:00<00:00, 8432.71it/s]\n",
            "Copiando para /content/dataset/val/dogs: 100%|██████████| 50/50 [00:00<00:00, 7652.16it/s]\n",
            "Copiando para /content/dataset/test/dogs: 100%|██████████| 20/20 [00:00<00:00, 6145.50it/s]"
          ]
        },
        {
          "output_type": "stream",
          "name": "stdout",
          "text": [
            "Removendo arquivos desnecessários...\n"
          ]
        },
        {
          "output_type": "stream",
          "name": "stderr",
          "text": [
            "\n"
          ]
        },
        {
          "output_type": "stream",
          "name": "stdout",
          "text": [
            "Arquivo /content/kagglecatsanddogs_5340.zip removido.\n",
            "Pasta /content/kagglecatsanddogs_5340 removida.\n",
            "\n",
            "Estrutura final de arquivos:\n",
            "/content/dataset: 0 arquivos\n",
            "/content/dataset/train: 0 arquivos\n",
            "/content/dataset/train/dogs: 200 arquivos\n",
            "/content/dataset/train/cats: 200 arquivos\n",
            "/content/dataset/val: 0 arquivos\n",
            "/content/dataset/val/dogs: 50 arquivos\n",
            "/content/dataset/val/cats: 50 arquivos\n",
            "/content/dataset/test: 0 arquivos\n",
            "/content/dataset/test/dogs: 20 arquivos\n",
            "/content/dataset/test/cats: 20 arquivos\n"
          ]
        }
      ]
    },
    {
      "cell_type": "markdown",
      "source": [
        "## 3º Passo: Definir Diretórios e Preparando os Dados\n",
        "\n",
        "Este código define e carrega conjuntos de dados para treinamento, validação e opcionalmente, teste, utilizando `image_dataset_from_directory`. As imagens são redimensionadas para 250x250 e processadas em lotes de 32, com normalização aplicada para escalá-las entre 0 e 1. O parâmetro `create_test` controla a inclusão do conjunto de teste. Os dados de validação e teste não são embaralhados, garantindo consistência na avaliação.\n",
        "\n"
      ],
      "metadata": {
        "id": "xVhjDCwsa55S"
      }
    },
    {
      "cell_type": "code",
      "source": [
        "# Diretórios de treinamento, validação e teste (caso aplicável)\n",
        "train_dir = \"/content/dataset/train\"\n",
        "val_dir = \"/content/dataset/val\"\n",
        "test_dir = \"/content/dataset/test\" if create_test else None\n",
        "\n",
        "# Carregar os datasets usando image_dataset_from_directory\n",
        "train_dataset = tf.keras.utils.image_dataset_from_directory(\n",
        "    train_dir,\n",
        "    image_size=(250, 250),\n",
        "    batch_size=32,\n",
        "    label_mode=\"categorical\",  # Para classificação multi-classe\n",
        "    shuffle=True\n",
        ")\n",
        "\n",
        "val_dataset = tf.keras.utils.image_dataset_from_directory(\n",
        "    val_dir,\n",
        "    image_size=(250, 250),\n",
        "    batch_size=32,\n",
        "    label_mode=\"categorical\",\n",
        "    shuffle=False  # Não embaralhar para avaliar a performance corretamente\n",
        ")\n",
        "\n",
        "# Carregar o conjunto de teste apenas se `create_test` for True\n",
        "if create_test:\n",
        "    test_dataset = tf.keras.utils.image_dataset_from_directory(\n",
        "        test_dir,\n",
        "        image_size=(250, 250),\n",
        "        batch_size=32,\n",
        "        label_mode=\"categorical\",\n",
        "        shuffle=False  # Não embaralhar para garantir consistência\n",
        "    )\n",
        "\n",
        "# Normalização dos dados\n",
        "normalization_layer = tf.keras.layers.Rescaling(1.0 / 255)\n",
        "train_dataset = train_dataset.map(lambda x, y: (normalization_layer(x), y))\n",
        "val_dataset = val_dataset.map(lambda x, y: (normalization_layer(x), y))\n",
        "\n",
        "# Normalizar o conjunto de teste, se existir\n",
        "if create_test:\n",
        "    test_dataset = test_dataset.map(lambda x, y: (normalization_layer(x), y))\n"
      ],
      "metadata": {
        "colab": {
          "base_uri": "https://localhost:8080/"
        },
        "id": "-1Lt8h2EaCxB",
        "outputId": "01989b17-8bfb-472e-9f62-630814579036"
      },
      "execution_count": null,
      "outputs": [
        {
          "output_type": "stream",
          "name": "stdout",
          "text": [
            "Found 400 files belonging to 2 classes.\n",
            "Found 100 files belonging to 2 classes.\n",
            "Found 40 files belonging to 2 classes.\n"
          ]
        }
      ]
    },
    {
      "cell_type": "markdown",
      "source": [
        "## 4º Passo: Criando modelo utilizando InceptionV3\n",
        "\n",
        "Este passo utiliza o modelo pré-treinado __InceptionV3__ como base, congelando seus pesos e adicionando camadas customizadas para classificação de imagens em duas classes. O modelo é compilado com o otimizador __Adam__ e a função de perda `categorical_crossentropy`. Se o conjunto de teste for criado, ele é usado após o treinamento para avaliar a generalização do modelo, garantindo desempenho consistente em dados não vistos.\n"
      ],
      "metadata": {
        "id": "HucthQQ8ai1V"
      }
    },
    {
      "cell_type": "code",
      "source": [
        "# Carregar o modelo pré-treinado InceptionV3\n",
        "base_model = InceptionV3(weights='imagenet', include_top=False, input_shape=(250, 250, 3))\n",
        "\n",
        "# Congelar os pesos do modelo base\n",
        "base_model.trainable = False\n",
        "\n",
        "# Adicionar camadas customizadas no topo\n",
        "x = base_model.output\n",
        "x = GlobalAveragePooling2D()(x)\n",
        "x = Dense(1024, activation='relu')(x)\n",
        "x = Dropout(0.5)(x)\n",
        "predictions = Dense(2, activation=\"softmax\")(x) # Duas clases\n",
        "\n",
        "# Criar o modelo final\n",
        "model = Model(inputs=base_model.input, outputs=predictions)\n",
        "\n",
        "# Compilando modelo com a função de perda correta\n",
        "model.compile(\n",
        "    optimizer=Adam(learning_rate=0.0001),\n",
        "    loss=\"categorical_crossentropy\",  # Função de perda para múltiplas classes\n",
        "    metrics=[\"accuracy\"]\n",
        ")\n",
        "\n",
        "# Avalia o desempenho no conjunto de teste (se aplicável)\n",
        "if create_test:\n",
        "    test_loss, test_acc = model.evaluate(test_dataset)\n",
        "    print(f\"Loss no teste: {test_loss}\")\n",
        "    print(f\"Acurácia no teste: {test_acc}\")\n"
      ],
      "metadata": {
        "id": "NU-KUBfFVuzk",
        "colab": {
          "base_uri": "https://localhost:8080/"
        },
        "outputId": "094430f5-ebe0-40c4-aabe-db447954f255"
      },
      "execution_count": null,
      "outputs": [
        {
          "output_type": "stream",
          "name": "stdout",
          "text": [
            "Downloading data from https://storage.googleapis.com/tensorflow/keras-applications/inception_v3/inception_v3_weights_tf_dim_ordering_tf_kernels_notop.h5\n",
            "\u001b[1m87910968/87910968\u001b[0m \u001b[32m━━━━━━━━━━━━━━━━━━━━\u001b[0m\u001b[37m\u001b[0m \u001b[1m0s\u001b[0m 0us/step\n",
            "\u001b[1m2/2\u001b[0m \u001b[32m━━━━━━━━━━━━━━━━━━━━\u001b[0m\u001b[37m\u001b[0m \u001b[1m22s\u001b[0m 7s/step - accuracy: 0.5167 - loss: 0.6674\n",
            "Loss no teste: 0.6634872555732727\n",
            "Acurácia no teste: 0.5249999761581421\n"
          ]
        }
      ]
    },
    {
      "cell_type": "markdown",
      "source": [
        "## 5º Passo: Treinando o modelo\n",
        "\n",
        "O modelo é treinado utilizando o conjunto de treinamento e validado com o conjunto de validação por até 30 épocas. O callback `EarlyStopping` monitora a perda no conjunto de validação (`val_loss`) e interrompe o treinamento se não houver melhora por 5 épocas consecutivas, restaurando os melhores pesos. Esse processo reduz o risco de sobreajuste e otimiza o tempo de treinamento.\n"
      ],
      "metadata": {
        "id": "7plwGp2zbfQS"
      }
    },
    {
      "cell_type": "code",
      "source": [
        "# Definir callbacks\n",
        "early_stopping = EarlyStopping(monitor='val_loss', patience=5, restore_best_weights=True)\n",
        "\n",
        "# Treinamento\n",
        "history = model.fit(\n",
        "    train_dataset,\n",
        "    validation_data=val_dataset,\n",
        "    epochs=30,\n",
        "    callbacks=[early_stopping]\n",
        ")\n"
      ],
      "metadata": {
        "colab": {
          "base_uri": "https://localhost:8080/"
        },
        "id": "6F8Wk4ajbnqA",
        "outputId": "63782790-c156-4044-8307-a0c55c7f289d"
      },
      "execution_count": null,
      "outputs": [
        {
          "output_type": "stream",
          "name": "stdout",
          "text": [
            "Epoch 1/30\n",
            "\u001b[1m13/13\u001b[0m \u001b[32m━━━━━━━━━━━━━━━━━━━━\u001b[0m\u001b[37m\u001b[0m \u001b[1m35s\u001b[0m 2s/step - accuracy: 0.7590 - loss: 0.4405 - val_accuracy: 0.9700 - val_loss: 0.0958\n",
            "Epoch 2/30\n",
            "\u001b[1m13/13\u001b[0m \u001b[32m━━━━━━━━━━━━━━━━━━━━\u001b[0m\u001b[37m\u001b[0m \u001b[1m14s\u001b[0m 101ms/step - accuracy: 0.9873 - loss: 0.0571 - val_accuracy: 0.9300 - val_loss: 0.1571\n",
            "Epoch 3/30\n",
            "\u001b[1m13/13\u001b[0m \u001b[32m━━━━━━━━━━━━━━━━━━━━\u001b[0m\u001b[37m\u001b[0m \u001b[1m3s\u001b[0m 107ms/step - accuracy: 0.9909 - loss: 0.0448 - val_accuracy: 0.9700 - val_loss: 0.0933\n",
            "Epoch 4/30\n",
            "\u001b[1m13/13\u001b[0m \u001b[32m━━━━━━━━━━━━━━━━━━━━\u001b[0m\u001b[37m\u001b[0m \u001b[1m1s\u001b[0m 97ms/step - accuracy: 0.9953 - loss: 0.0292 - val_accuracy: 0.9400 - val_loss: 0.1165\n",
            "Epoch 5/30\n",
            "\u001b[1m13/13\u001b[0m \u001b[32m━━━━━━━━━━━━━━━━━━━━\u001b[0m\u001b[37m\u001b[0m \u001b[1m1s\u001b[0m 99ms/step - accuracy: 0.9949 - loss: 0.0138 - val_accuracy: 0.9400 - val_loss: 0.1229\n",
            "Epoch 6/30\n",
            "\u001b[1m13/13\u001b[0m \u001b[32m━━━━━━━━━━━━━━━━━━━━\u001b[0m\u001b[37m\u001b[0m \u001b[1m3s\u001b[0m 99ms/step - accuracy: 0.9995 - loss: 0.0046 - val_accuracy: 0.9400 - val_loss: 0.1301\n",
            "Epoch 7/30\n",
            "\u001b[1m13/13\u001b[0m \u001b[32m━━━━━━━━━━━━━━━━━━━━\u001b[0m\u001b[37m\u001b[0m \u001b[1m3s\u001b[0m 147ms/step - accuracy: 1.0000 - loss: 0.0090 - val_accuracy: 0.9600 - val_loss: 0.0872\n",
            "Epoch 8/30\n",
            "\u001b[1m13/13\u001b[0m \u001b[32m━━━━━━━━━━━━━━━━━━━━\u001b[0m\u001b[37m\u001b[0m \u001b[1m2s\u001b[0m 117ms/step - accuracy: 1.0000 - loss: 0.0053 - val_accuracy: 0.9300 - val_loss: 0.1409\n",
            "Epoch 9/30\n",
            "\u001b[1m13/13\u001b[0m \u001b[32m━━━━━━━━━━━━━━━━━━━━\u001b[0m\u001b[37m\u001b[0m \u001b[1m3s\u001b[0m 122ms/step - accuracy: 1.0000 - loss: 0.0036 - val_accuracy: 0.9500 - val_loss: 0.1146\n",
            "Epoch 10/30\n",
            "\u001b[1m13/13\u001b[0m \u001b[32m━━━━━━━━━━━━━━━━━━━━\u001b[0m\u001b[37m\u001b[0m \u001b[1m1s\u001b[0m 96ms/step - accuracy: 1.0000 - loss: 0.0025 - val_accuracy: 0.9600 - val_loss: 0.1138\n",
            "Epoch 11/30\n",
            "\u001b[1m13/13\u001b[0m \u001b[32m━━━━━━━━━━━━━━━━━━━━\u001b[0m\u001b[37m\u001b[0m \u001b[1m3s\u001b[0m 95ms/step - accuracy: 1.0000 - loss: 0.0029 - val_accuracy: 0.9600 - val_loss: 0.0960\n",
            "Epoch 12/30\n",
            "\u001b[1m13/13\u001b[0m \u001b[32m━━━━━━━━━━━━━━━━━━━━\u001b[0m\u001b[37m\u001b[0m \u001b[1m1s\u001b[0m 108ms/step - accuracy: 1.0000 - loss: 0.0043 - val_accuracy: 0.9600 - val_loss: 0.0815\n",
            "Epoch 13/30\n",
            "\u001b[1m13/13\u001b[0m \u001b[32m━━━━━━━━━━━━━━━━━━━━\u001b[0m\u001b[37m\u001b[0m \u001b[1m2s\u001b[0m 104ms/step - accuracy: 1.0000 - loss: 0.0019 - val_accuracy: 0.9400 - val_loss: 0.1230\n",
            "Epoch 14/30\n",
            "\u001b[1m13/13\u001b[0m \u001b[32m━━━━━━━━━━━━━━━━━━━━\u001b[0m\u001b[37m\u001b[0m \u001b[1m3s\u001b[0m 122ms/step - accuracy: 1.0000 - loss: 0.0023 - val_accuracy: 0.9400 - val_loss: 0.1240\n",
            "Epoch 15/30\n",
            "\u001b[1m13/13\u001b[0m \u001b[32m━━━━━━━━━━━━━━━━━━━━\u001b[0m\u001b[37m\u001b[0m \u001b[1m2s\u001b[0m 98ms/step - accuracy: 1.0000 - loss: 0.0018 - val_accuracy: 0.9600 - val_loss: 0.1107\n",
            "Epoch 16/30\n",
            "\u001b[1m13/13\u001b[0m \u001b[32m━━━━━━━━━━━━━━━━━━━━\u001b[0m\u001b[37m\u001b[0m \u001b[1m3s\u001b[0m 96ms/step - accuracy: 1.0000 - loss: 0.0016 - val_accuracy: 0.9600 - val_loss: 0.1079\n",
            "Epoch 17/30\n",
            "\u001b[1m13/13\u001b[0m \u001b[32m━━━━━━━━━━━━━━━━━━━━\u001b[0m\u001b[37m\u001b[0m \u001b[1m1s\u001b[0m 100ms/step - accuracy: 1.0000 - loss: 0.0012 - val_accuracy: 0.9600 - val_loss: 0.1086\n"
          ]
        }
      ]
    },
    {
      "cell_type": "markdown",
      "source": [
        "## 6º Passo: Avaliando Modelo"
      ],
      "metadata": {
        "id": "i8A9CrsTvOsN"
      }
    },
    {
      "cell_type": "markdown",
      "source": [
        "### 6.1 Avaliando Modelo\n",
        "\n",
        "O modelo é avaliado no conjunto de validação gerando previsões e comparando-as com os rótulos verdadeiros. Métricas como precisão, recall e F1-score são apresentadas em um relatório de classificação, e uma matriz de confusão é criada para analisar erros. Este processo permite identificar o desempenho do modelo em diferentes classes e ajustar sua eficácia."
      ],
      "metadata": {
        "id": "8aNx0vA6ksMQ"
      }
    },
    {
      "cell_type": "code",
      "source": [
        "# Gerar previsões\n",
        "Y_pred = model.predict(val_dataset)\n",
        "y_pred = np.argmax(Y_pred, axis=1)  # Converter probabilidades para classes\n",
        "\n",
        "# Obter os rótulos verdadeiros do dataset\n",
        "true_labels = np.concatenate([y for x, y in val_dataset], axis=0)\n",
        "true_labels = np.argmax(true_labels, axis=1)  # Garantir que os rótulos sejam inteiros\n",
        "\n",
        "# Relatório de Classificação\n",
        "print(\"Relatório de Classificação:\")\n",
        "print(classification_report(true_labels, y_pred, target_names=['Cat', 'Dog']))\n",
        "\n",
        "# Matriz de Confusão\n",
        "cm = confusion_matrix(true_labels, y_pred)\n",
        "print(\"Matriz de Confusão:\")\n",
        "print(cm)\n"
      ],
      "metadata": {
        "id": "f0DyZP1TpCzn",
        "colab": {
          "base_uri": "https://localhost:8080/"
        },
        "outputId": "f5a440d3-e1b2-438f-d566-f88a78380bcf"
      },
      "execution_count": null,
      "outputs": [
        {
          "output_type": "stream",
          "name": "stdout",
          "text": [
            "\u001b[1m4/4\u001b[0m \u001b[32m━━━━━━━━━━━━━━━━━━━━\u001b[0m\u001b[37m\u001b[0m \u001b[1m13s\u001b[0m 2s/step\n",
            "Relatório de Classificação:\n",
            "              precision    recall  f1-score   support\n",
            "\n",
            "         Cat       1.00      0.92      0.96        50\n",
            "         Dog       0.93      1.00      0.96        50\n",
            "\n",
            "    accuracy                           0.96       100\n",
            "   macro avg       0.96      0.96      0.96       100\n",
            "weighted avg       0.96      0.96      0.96       100\n",
            "\n",
            "Matriz de Confusão:\n",
            "[[46  4]\n",
            " [ 0 50]]\n"
          ]
        }
      ]
    },
    {
      "cell_type": "markdown",
      "source": [
        "### 6.2 Avaliando Teste\n",
        "\n",
        "Se o conjunto de teste estiver habilitado, o modelo também será avaliado nesse conjunto, gerando previsões e comparando-as com os rótulos verdadeiros."
      ],
      "metadata": {
        "id": "mjGNkXGQlxD9"
      }
    },
    {
      "cell_type": "code",
      "source": [
        "if create_test:\n",
        "    # Gerar previsões no conjunto de teste\n",
        "    print(\"\\nAvaliando no conjunto de teste:\")\n",
        "    Y_test_pred = model.predict(test_dataset)\n",
        "    y_test_pred = np.argmax(Y_test_pred, axis=1)\n",
        "\n",
        "    # Obter os rótulos verdadeiros do conjunto de teste\n",
        "    true_test_labels = np.concatenate([y for x, y in test_dataset], axis=0)\n",
        "    true_test_labels = np.argmax(true_test_labels, axis=1)\n",
        "\n",
        "    # Relatório de Classificação no conjunto de teste\n",
        "    print(\"\\nRelatório de Classificação no Conjunto de Teste:\")\n",
        "    print(classification_report(true_test_labels, y_test_pred, target_names=['Cat', 'Dog']))\n",
        "\n",
        "    # Matriz de Confusão no conjunto de teste\n",
        "    test_cm = confusion_matrix(true_test_labels, y_test_pred)\n",
        "    print(\"\\nMatriz de Confusão no Conjunto de Teste:\")\n",
        "    print(test_cm)\n",
        "else:\n",
        "    print(\"Conjunto de teste não foi criado. Avaliação limitada ao conjunto de validação.\")\n"
      ],
      "metadata": {
        "colab": {
          "base_uri": "https://localhost:8080/"
        },
        "id": "NQ7VrPCAkmDg",
        "outputId": "a6fe62ae-7ef9-457e-fe8b-ec7eeb12f0c8"
      },
      "execution_count": null,
      "outputs": [
        {
          "output_type": "stream",
          "name": "stdout",
          "text": [
            "\n",
            "Avaliando no conjunto de teste:\n",
            "\u001b[1m2/2\u001b[0m \u001b[32m━━━━━━━━━━━━━━━━━━━━\u001b[0m\u001b[37m\u001b[0m \u001b[1m4s\u001b[0m 4s/step\n",
            "\n",
            "Relatório de Classificação no Conjunto de Teste:\n",
            "              precision    recall  f1-score   support\n",
            "\n",
            "         Cat       1.00      1.00      1.00        20\n",
            "         Dog       1.00      1.00      1.00        20\n",
            "\n",
            "    accuracy                           1.00        40\n",
            "   macro avg       1.00      1.00      1.00        40\n",
            "weighted avg       1.00      1.00      1.00        40\n",
            "\n",
            "\n",
            "Matriz de Confusão no Conjunto de Teste:\n",
            "[[20  0]\n",
            " [ 0 20]]\n"
          ]
        }
      ]
    },
    {
      "cell_type": "markdown",
      "source": [
        "## 7º Passo: Visualizando o Resultado\n",
        "\n",
        "O desempenho do modelo durante o treinamento é exibido em duas curvas: uma para a acurácia e outra para a perda. As curvas são separadas em dois gráficos, mostrando tanto a evolução da acurácia e da perda durante o treinamento quanto a validação."
      ],
      "metadata": {
        "id": "oqkn_B0EwPsq"
      }
    },
    {
      "cell_type": "code",
      "source": [
        "# Plotar a curva de aprendizado\n",
        "plt.figure(figsize=(12, 4))\n",
        "\n",
        "# Acurácia\n",
        "plt.subplot(1, 2, 1)\n",
        "plt.plot(history.history['accuracy'], label='Acurácia Treino')\n",
        "plt.plot(history.history['val_accuracy'], label='Acurácia Validação')\n",
        "plt.title('Acurácia')\n",
        "plt.xlabel('Épocas')\n",
        "plt.ylabel('Acurácia')\n",
        "plt.legend()\n",
        "\n",
        "# Perda\n",
        "plt.subplot(1, 2, 2)\n",
        "plt.plot(history.history['loss'], label='Perda Treino')\n",
        "plt.plot(history.history['val_loss'], label='Perda Validação')\n",
        "plt.title('Perda')\n",
        "plt.xlabel('Épocas')\n",
        "plt.ylabel('Perda')\n",
        "plt.legend()\n",
        "\n",
        "plt.show()"
      ],
      "metadata": {
        "colab": {
          "base_uri": "https://localhost:8080/",
          "height": 382
        },
        "id": "c6MWvXlgwKpq",
        "outputId": "c168386f-c545-4807-eb21-ed0f014114bf"
      },
      "execution_count": null,
      "outputs": [
        {
          "output_type": "display_data",
          "data": {
            "text/plain": [
              "<Figure size 1200x400 with 2 Axes>"
            ],
            "image/png": "[encoded data removed]"
          },
          "metadata": {}
        }
      ]
    },
    {
      "cell_type": "code",
      "source": [],
      "metadata": {
        "id": "3RZ_9ZBbnB17"
      },
      "execution_count": null,
      "outputs": []
    }
  ]
}